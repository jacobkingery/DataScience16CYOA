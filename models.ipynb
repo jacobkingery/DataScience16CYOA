{
 "cells": [
  {
   "cell_type": "markdown",
   "metadata": {},
   "source": [
    "Note: The lines of code that apply the models to the test data and generate the submission file are commented out.  This is because the files created are >500MB each, and we didn't want somebody to accidentally create a bunch of large files if they ran all the cells."
   ]
  },
  {
   "cell_type": "markdown",
   "metadata": {},
   "source": [
    "# Imports"
   ]
  },
  {
   "cell_type": "code",
   "execution_count": 1,
   "metadata": {
    "collapsed": false
   },
   "outputs": [],
   "source": [
    "import crime\n",
    "import pandas as pd\n",
    "import numpy as np\n",
    "from sklearn.cross_validation import train_test_split\n",
    "from sklearn.neighbors import KNeighborsClassifier\n",
    "from sklearn.linear_model import LogisticRegression\n",
    "from sklearn import tree\n",
    "from sklearn.ensemble import GradientBoostingClassifier"
   ]
  },
  {
   "cell_type": "markdown",
   "metadata": {},
   "source": [
    "# Load Data"
   ]
  },
  {
   "cell_type": "code",
   "execution_count": 2,
   "metadata": {
    "collapsed": false
   },
   "outputs": [
    {
     "name": "stdout",
     "output_type": "stream",
     "text": [
      "<class 'pandas.core.frame.DataFrame'>\n",
      "Int64Index: 878049 entries, 0 to 878048\n",
      "Data columns (total 17 columns):\n",
      "Dates             878049 non-null object\n",
      "Category          878049 non-null object\n",
      "Descript          878049 non-null object\n",
      "DayOfWeek         878049 non-null object\n",
      "PdDistrict        878049 non-null object\n",
      "Resolution        878049 non-null object\n",
      "Address           878049 non-null object\n",
      "X                 878049 non-null float64\n",
      "Y                 878049 non-null float64\n",
      "Year              878049 non-null int64\n",
      "Month             878049 non-null int64\n",
      "Day               878049 non-null int64\n",
      "Hour              878049 non-null int64\n",
      "Minute            878049 non-null int64\n",
      "DoW               878049 non-null int64\n",
      "PdD               878049 non-null int64\n",
      "CategoryNumber    878049 non-null int64\n",
      "dtypes: float64(2), int64(8), object(7)\n",
      "memory usage: 120.6+ MB\n",
      "None\n",
      "<class 'pandas.core.frame.DataFrame'>\n",
      "Int64Index: 884262 entries, 0 to 884261\n",
      "Data columns (total 14 columns):\n",
      "Id            884262 non-null int64\n",
      "Dates         884262 non-null object\n",
      "DayOfWeek     884262 non-null object\n",
      "PdDistrict    884262 non-null object\n",
      "Address       884262 non-null object\n",
      "X             884262 non-null float64\n",
      "Y             884262 non-null float64\n",
      "Year          884262 non-null int64\n",
      "Month         884262 non-null int64\n",
      "Day           884262 non-null int64\n",
      "Hour          884262 non-null int64\n",
      "Minute        884262 non-null int64\n",
      "DoW           884262 non-null int64\n",
      "PdD           884262 non-null int64\n",
      "dtypes: float64(2), int64(8), object(4)\n",
      "memory usage: 101.2+ MB\n",
      "None\n"
     ]
    }
   ],
   "source": [
    "train = crime.load_cleaned_train()\n",
    "test = crime.load_cleaned_test()\n",
    "\n",
    "print train.info()\n",
    "print test.info()"
   ]
  },
  {
   "cell_type": "markdown",
   "metadata": {},
   "source": [
    "The data is cleaned as described in `crime.py`.  In short, Year, Month, Day, Hour, and Minute columns are created, DayOfWeek, PdDistrict, and Category are encoded as integers, and invalid X and Y values are set to the median for that crime's PdDistrict."
   ]
  },
  {
   "cell_type": "markdown",
   "metadata": {
    "collapsed": true
   },
   "source": [
    "# Split Train Data for Cross Validation"
   ]
  },
  {
   "cell_type": "code",
   "execution_count": 3,
   "metadata": {
    "collapsed": false
   },
   "outputs": [],
   "source": [
    "predictors = ['X', 'Y', 'Year', 'Month', 'Hour', 'DoW', 'PdD']\n",
    "X = train[predictors]\n",
    "y = train.CategoryNumber\n",
    "X_train, X_test, y_train, y_test = train_test_split(X, y, test_size=0.5, stratify=np.array(y))"
   ]
  },
  {
   "cell_type": "markdown",
   "metadata": {
    "collapsed": true
   },
   "source": [
    "The `stratify` parameter of `train_test_split` requires scikit-learn-0.17, but ensures that the proportion of categories is maintained in the split.  The biggest thing that this does is make it so that we always get at least one crime from each category in the training set.  Our models can only predict based on what they have seen before, so it is crucial that we train them with all possible categories."
   ]
  },
  {
   "cell_type": "code",
   "execution_count": 8,
   "metadata": {
    "collapsed": true
   },
   "outputs": [],
   "source": [
    "def cross_validate(alg, X_train, X_test, y_train, y_test):\n",
    "    predictor_sets = (\n",
    "        ['X', 'Y'],\n",
    "        ['DoW', 'Hour', 'Year'],\n",
    "        ['X', 'Y', 'DoW', 'Hour', 'Year'],\n",
    "        ['X', 'Y', 'Year', 'Month', 'Hour', 'DoW', 'PdD']\n",
    "    )\n",
    "\n",
    "    for predictors in predictor_sets:\n",
    "        alg.fit(X_train[predictors], y_train)\n",
    "        p = alg.predict_proba(X_test[predictors])\n",
    "        print crime.logloss(y_test, p), predictors"
   ]
  },
  {
   "cell_type": "markdown",
   "metadata": {},
   "source": [
    "# Baseline Model"
   ]
  },
  {
   "cell_type": "markdown",
   "metadata": {},
   "source": [
    "In order to have something to compare to, we've created a baseline model that guesses based on the crime rates in each district"
   ]
  },
  {
   "cell_type": "code",
   "execution_count": 4,
   "metadata": {
    "collapsed": false
   },
   "outputs": [
    {
     "name": "stdout",
     "output_type": "stream",
     "text": [
      "2.61558736009\n"
     ]
    }
   ],
   "source": [
    "class baseline(object):\n",
    "    def __init__(self):\n",
    "        self.has_fit = False\n",
    "        \n",
    "    def fit(self, X_train, y_train):\n",
    "        X_train = X_train.copy()\n",
    "        X_train['CategoryNumber'] = y_train\n",
    "        groups = X_train.groupby(['PdD', 'CategoryNumber'])\n",
    "\n",
    "        # Tally up the counts of each Category in each PdDistrict\n",
    "        num_districts = len(X_train.PdD.unique())\n",
    "        num_categories = len(y_train.unique())\n",
    "        self.district_rates = np.zeros((num_districts, num_categories))\n",
    "        for ind,data in groups:\n",
    "            self.district_rates[ind] = len(data)\n",
    "\n",
    "        # Normalize values\n",
    "        self.district_rates /= self.district_rates.sum(axis=1, keepdims=True)\n",
    "\n",
    "        self.has_fit = True\n",
    "\n",
    "    def predict_proba(self, X_test):\n",
    "        if self.has_fit:\n",
    "            predictions = X_test.PdD.apply(lambda x: self.district_rates[x,:])\n",
    "            return pd.DataFrame(predictions.tolist()).values  # to get a numpy array of the correct shape\n",
    "        return None\n",
    "\n",
    "alg = baseline()\n",
    "predictors = ['PdD']\n",
    "alg.fit(X_train[predictors], y_train)\n",
    "p = alg.predict_proba(X_test[predictors])\n",
    "print crime.logloss(y_test, p)\n",
    "\n",
    "# crime.create_submission(alg, X, y, test, predictors, 'baseline_submission.csv')"
   ]
  },
  {
   "cell_type": "markdown",
   "metadata": {},
   "source": [
    "This scored a 2.61645 on the test data, a very similar score to the cross validation.  This isn't too surprising since the way the train and test data are split up are by every other week, so our cross validation train-test split is pretty representative of the data as a whole."
   ]
  },
  {
   "cell_type": "markdown",
   "metadata": {},
   "source": [
    "# k-Nearest Neighbors Model"
   ]
  },
  {
   "cell_type": "markdown",
   "metadata": {},
   "source": [
    "The first model we've chosen to try is the k-Nearest Neighbors model, partially for the fact that you can quite literally look at which crimes occurred near each other using the X and Y columns."
   ]
  },
  {
   "cell_type": "code",
   "execution_count": 5,
   "metadata": {
    "collapsed": false
   },
   "outputs": [
    {
     "name": "stdout",
     "output_type": "stream",
     "text": [
      "5.15551118816 ['X', 'Y']\n",
      "5.69044667321 ['DoW', 'Hour', 'Year']\n",
      "5.56268327075 ['X', 'Y', 'DoW', 'Hour', 'Year']\n",
      "5.35789194314 ['X', 'Y', 'Year', 'Month', 'Hour', 'DoW', 'PdD']\n"
     ]
    }
   ],
   "source": [
    "alg = KNeighborsClassifier(n_neighbors=50)\n",
    "cross_validate(alg, X_train, X_test, y_train, y_test)"
   ]
  },
  {
   "cell_type": "markdown",
   "metadata": {},
   "source": [
    "It looks like this model did the best when it only used the spatial data, the X and Y columns.  It is also performing worse than our baseline model, but let's see how it does with the test data."
   ]
  },
  {
   "cell_type": "code",
   "execution_count": 6,
   "metadata": {
    "collapsed": false
   },
   "outputs": [],
   "source": [
    "predictors = ['X', 'Y']\n",
    "alg = KNeighborsClassifier(n_neighbors=50)\n",
    "# crime.create_submission(alg, X, y, test, predictors, 'k-nn_submission.csv')"
   ]
  },
  {
   "cell_type": "markdown",
   "metadata": {},
   "source": [
    "This scored a 5.32130 on the test data, which is a little worse than the cross validation score.  It seems that "
   ]
  },
  {
   "cell_type": "markdown",
   "metadata": {},
   "source": [
    "# Logistic Regression Model"
   ]
  },
  {
   "cell_type": "markdown",
   "metadata": {},
   "source": [
    "Next, we decided to see how our old friend the Logistic Regression would do."
   ]
  },
  {
   "cell_type": "code",
   "execution_count": 7,
   "metadata": {
    "collapsed": false
   },
   "outputs": [
    {
     "name": "stdout",
     "output_type": "stream",
     "text": [
      "2.6721756429 ['X', 'Y']\n",
      "2.67226861354 ['DoW', 'Hour', 'Year']\n",
      "2.67200816957 ['X', 'Y', 'DoW', 'Hour', 'Year']\n",
      "2.66178121371 ['X', 'Y', 'Year', 'Month', 'Hour', 'DoW', 'PdD']\n"
     ]
    }
   ],
   "source": [
    "alg = LogisticRegression()\n",
    "cross_validate(alg, X_train, X_test, y_train, y_test)"
   ]
  },
  {
   "cell_type": "markdown",
   "metadata": {},
   "source": [
    "The Logistic Regression model seems to do slightly better when it's given all of the predictors, but is still not as good as our baseline model."
   ]
  },
  {
   "cell_type": "code",
   "execution_count": null,
   "metadata": {
    "collapsed": false
   },
   "outputs": [],
   "source": [
    "predictors = ['X', 'Y', 'Year', 'Month', 'Hour', 'DoW', 'PdD']\n",
    "alg = LogisticRegression()\n",
    "# crime.create_submission(alg, X, y, test, predictors, 'lr_submission.csv')"
   ]
  },
  {
   "cell_type": "markdown",
   "metadata": {},
   "source": [
    "This scored a [] on the test data"
   ]
  },
  {
   "cell_type": "markdown",
   "metadata": {},
   "source": [
    "# Decision Tree Model"
   ]
  },
  {
   "cell_type": "code",
   "execution_count": 9,
   "metadata": {
    "collapsed": false,
    "scrolled": true
   },
   "outputs": [
    {
     "name": "stdout",
     "output_type": "stream",
     "text": [
      "2.62620494929 ['X', 'Y']\n",
      "2.64580637088 ['DoW', 'Hour', 'Year']\n",
      "2.62780730822 ['X', 'Y', 'DoW', 'Hour', 'Year']\n",
      "2.62780730822 ['X', 'Y', 'Year', 'Month', 'Hour', 'DoW', 'PdD']\n"
     ]
    }
   ],
   "source": [
    "alg = tree.DecisionTreeClassifier(max_depth=3, min_samples_leaf=5)\n",
    "cross_validate(alg, X_train, X_test, y_train, y_test)"
   ]
  },
  {
   "cell_type": "markdown",
   "metadata": {},
   "source": [
    "Let's try giving the model all the predictors since its scores are so close for just using two and using all of them."
   ]
  },
  {
   "cell_type": "code",
   "execution_count": null,
   "metadata": {
    "collapsed": true
   },
   "outputs": [],
   "source": [
    "predictors = ['X', 'Y', 'Year', 'Month', 'Hour', 'DoW', 'PdD']\n",
    "alg = tree.DecisionTreeClassifier(max_depth=3, min_samples_leaf=5)\n",
    "# crime.create_submission(alg, X, y, test, predictors, 'dt_submission.csv')"
   ]
  },
  {
   "cell_type": "markdown",
   "metadata": {},
   "source": [
    "# Gradient Boosting Model"
   ]
  },
  {
   "cell_type": "code",
   "execution_count": null,
   "metadata": {
    "collapsed": false,
    "scrolled": true
   },
   "outputs": [],
   "source": [
    "alg = GradientBoostingClassifier(random_state=1, n_estimators=10, max_depth=3)\n",
    "cross_validate(alg, X_train, X_test, y_train, y_test)"
   ]
  },
  {
   "cell_type": "code",
   "execution_count": null,
   "metadata": {
    "collapsed": false
   },
   "outputs": [],
   "source": []
  }
 ],
 "metadata": {
  "kernelspec": {
   "display_name": "Python 2",
   "language": "python",
   "name": "python2"
  },
  "language_info": {
   "codemirror_mode": {
    "name": "ipython",
    "version": 2
   },
   "file_extension": ".py",
   "mimetype": "text/x-python",
   "name": "python",
   "nbconvert_exporter": "python",
   "pygments_lexer": "ipython2",
   "version": "2.7.3"
  }
 },
 "nbformat": 4,
 "nbformat_minor": 0
}
